{
 "cells": [
  {
   "cell_type": "code",
   "execution_count": 15,
   "metadata": {},
   "outputs": [],
   "source": [
    "import nltk\n",
    "import pandas as pd\n",
    "import numpy as np\n",
    "from nltk.tokenize import sent_tokenize,word_tokenize\n",
    "from nltk.tokenize import RegexpTokenizer\n",
    "from nltk.corpus import stopwords\n",
    "from sklearn.model_selection import train_test_split\n",
    "\n",
    "amazon_df=pd.read_csv('BookReviews.csv')\n",
    "amazon_df\n",
    "amazon_df['Label']=amazon_df['Label'].map({'__label__2 ':1,'__label__1 ':0})\n",
    "y=amazon_df['Label']\n",
    "amazon_df.drop(columns='Label',axis=1,inplace=True)\n",
    "X_train,X_test,y_train,y_test=train_test_split(amazon_df,y,random_state=42,test_size=0.2)"
   ]
  },
  {
   "cell_type": "code",
   "execution_count": 16,
   "metadata": {},
   "outputs": [
    {
     "name": "stderr",
     "output_type": "stream",
     "text": [
      "C:\\Users\\sadrool haque\\Anaconda3\\lib\\site-packages\\ipykernel_launcher.py:19: SettingWithCopyWarning: \n",
      "A value is trying to be set on a copy of a slice from a DataFrame.\n",
      "Try using .loc[row_indexer,col_indexer] = value instead\n",
      "\n",
      "See the caveats in the documentation: http://pandas.pydata.org/pandas-docs/stable/indexing.html#indexing-view-versus-copy\n",
      "C:\\Users\\sadrool haque\\Anaconda3\\lib\\site-packages\\ipykernel_launcher.py:23: SettingWithCopyWarning: \n",
      "A value is trying to be set on a copy of a slice from a DataFrame.\n",
      "Try using .loc[row_indexer,col_indexer] = value instead\n",
      "\n",
      "See the caveats in the documentation: http://pandas.pydata.org/pandas-docs/stable/indexing.html#indexing-view-versus-copy\n"
     ]
    },
    {
     "data": {
      "text/plain": [
       "82     dirty south probably best southside cd ever co...\n",
       "15     try fool u fake review glaringly obvious glowi...\n",
       "111    load fun 6 year old 5 year old really enjoy ga...\n",
       "177    make fascinating reading whale naturalist anim...\n",
       "76     bad deal ordered dvd received substitute never...\n",
       "163    excellent product alphabet block beautiful cou...\n",
       "68     great combination creativity adventure 4 year ...\n",
       "67     even mommy fun one four year old daughter love...\n",
       "120    worth wait jmm never released bad album many w...\n",
       "173    worth investment great set block researched di...\n",
       "176    small work small compared thought would even w...\n",
       "148    three four star depending classic drawing room...\n",
       "65     profound truly horrible narrative style work f...\n",
       "30     incorrect disc big jvc fan like model suspisci...\n",
       "86     drew air book drew air pretty bad idea someone...\n",
       "85     little one maid israel bill harvey wonderful g...\n",
       "55     good received defective book bought book movin...\n",
       "60     homer moses extremely helpful gem complex subj...\n",
       "90     instruction included trust seller promised ite...\n",
       "159    perfect die hard baseball fan read baseball am...\n",
       "16     romantic zen baseball comedy hear folk say mak...\n",
       "124    oh cereal sweet yet good one taste addiction t...\n",
       "96     fun educational train shape peg winning combin...\n",
       "172    wonderful worth 80 great block definitely wort...\n",
       "66     definitely enjoyed gift 6 yr old daughter big ...\n",
       "189    mask familiarity mask maker take u cinematic p...\n",
       "147    professional quality first tried buying tape m...\n",
       "9      whisper wicked saint easy read book made want ...\n",
       "18     jobst ultrasheer thigh high excellent product ...\n",
       "128    technical information book great view joint us...\n",
       "190    unmasked sadly absolutely nothing original mov...\n",
       "45     fast mp3 download music waxed decade ago one 2...\n",
       "192    great resource chinese eastern medincine excel...\n",
       "164    great twin purchased alphabet block twin daugh...\n",
       "101    great book historical romance lover engaging c...\n",
       "69     rapunzel great game 3 year old son 7 year old ...\n",
       "126    oh oh oh gone really distraught go local walma...\n",
       "123    este libro contiene todo lo que pense que inte...\n",
       "75     o x mac classic negative game work o x require...\n",
       "78     disappointed perfume awful smell nothing like ...\n",
       "Name: Cleaned_text, dtype: object"
      ]
     },
     "execution_count": 16,
     "metadata": {},
     "output_type": "execute_result"
    }
   ],
   "source": [
    "from nltk.tokenize import RegexpTokenizer\n",
    "from nltk.stem import WordNetLemmatizer,PorterStemmer\n",
    "\n",
    "tokenizer= RegexpTokenizer(r'\\w+')\n",
    "lemmatizer= WordNetLemmatizer()\n",
    "stemmer=PorterStemmer()\n",
    "\n",
    "def preprocessing(review):\n",
    "    \n",
    "    final_tokens=' '\n",
    "    tokens=tokenizer.tokenize(review)\n",
    "    pure_tokens=[token.lower() for token in tokens if token.lower() not in stopwords.words('english')]\n",
    "    lemmas_tokens=[lemmatizer.lemmatize(pure_token) for pure_token in pure_tokens]\n",
    "    \n",
    "\n",
    "    final_tokens=final_tokens.join(lemmas_tokens)\n",
    "    \n",
    "    return final_tokens\n",
    "X_train['Cleaned_text']=X_train['Review'].apply(preprocessing)\n",
    "\n",
    "X_train['Cleaned_text']\n",
    "\n",
    "X_test['Cleaned_text']=X_test['Review'].apply(preprocessing)\n",
    "\n",
    "X_test['Cleaned_text']"
   ]
  },
  {
   "cell_type": "code",
   "execution_count": 17,
   "metadata": {},
   "outputs": [],
   "source": [
    "from sklearn.feature_extraction.text import TfidfVectorizer\n",
    "vectorizer= TfidfVectorizer(stop_words='english',use_idf=True)\n",
    "vectorizer.fit(X_train['Cleaned_text'])\n",
    "X_train_TfIdf=vectorizer.transform(X_train['Cleaned_text'])\n",
    "X_test_TfIdf=vectorizer.transform(X_test['Cleaned_text'])\n",
    "\n"
   ]
  },
  {
   "cell_type": "code",
   "execution_count": 18,
   "metadata": {},
   "outputs": [
    {
     "name": "stderr",
     "output_type": "stream",
     "text": [
      "C:\\Users\\sadrool haque\\Anaconda3\\lib\\site-packages\\ipykernel_launcher.py:7: SettingWithCopyWarning: \n",
      "A value is trying to be set on a copy of a slice from a DataFrame.\n",
      "Try using .loc[row_indexer,col_indexer] = value instead\n",
      "\n",
      "See the caveats in the documentation: http://pandas.pydata.org/pandas-docs/stable/indexing.html#indexing-view-versus-copy\n",
      "  import sys\n"
     ]
    },
    {
     "data": {
      "text/plain": [
       "array([1, 0, 1, 1, 0, 1, 1, 1, 1, 1, 1, 1, 1, 0, 0, 1, 1, 1, 0, 1, 1, 1,\n",
       "       1, 1, 1, 1, 0, 1, 1, 1, 0, 1, 1, 1, 1, 1, 0, 0, 1, 0], dtype=int64)"
      ]
     },
     "execution_count": 18,
     "metadata": {},
     "output_type": "execute_result"
    },
    {
     "data": {
      "image/png": "[encoded data removed]",
      "text/plain": [
       "<Figure size 432x288 with 1 Axes>"
      ]
     },
     "metadata": {
      "needs_background": "light"
     },
     "output_type": "display_data"
    }
   ],
   "source": [
    "from sklearn.naive_bayes import MultinomialNB,GaussianNB\n",
    "from sklearn.metrics import confusion_matrix,roc_curve,roc_auc_score,f1_score\n",
    "import matplotlib.pyplot as plt\n",
    "\n",
    "clf= MultinomialNB().fit(X_train_TfIdf.toarray(),y_train)\n",
    "\n",
    "X_test['Cleaned_text']=X_test['Review'].apply(preprocessing)\n",
    "\n",
    "X_test_TfIdf=vectorizer.transform(X_test['Cleaned_text'])\n",
    "                                  \n",
    "y_pred= clf.predict(X_test_TfIdf.toarray())\n",
    "                                  \n",
    "confusion_matrix(y_test,y_pred)\n",
    "                                 \n",
    "y_proba_pred=clf.predict_proba(X_test_TfIdf.toarray())[::,1]\n",
    "                                  \n",
    "fpr,tpr,thresholds=roc_curve(y_test,y_proba_pred)\n",
    "                    \n",
    "plt.plot(fpr,tpr)\n",
    "                                  \n",
    "y_pred"
   ]
  },
  {
   "cell_type": "code",
   "execution_count": 19,
   "metadata": {},
   "outputs": [
    {
     "data": {
      "text/plain": [
       "array([0.58297658, 0.43025728, 0.72332574, 0.5832087 , 0.44786743,\n",
       "       0.70415467, 0.70072481, 0.71553202, 0.73727658, 0.76385372,\n",
       "       0.53648387, 0.50752101, 0.56376605, 0.4823114 , 0.4464437 ,\n",
       "       0.74485491, 0.58006492, 0.57731168, 0.33619505, 0.68738314,\n",
       "       0.69714422, 0.55878286, 0.63938704, 0.71362035, 0.65422215,\n",
       "       0.59364606, 0.38211033, 0.66352231, 0.59434824, 0.65884991,\n",
       "       0.48719553, 0.61154284, 0.64546191, 0.83730774, 0.66868883,\n",
       "       0.73307879, 0.48922184, 0.48940007, 0.53060488, 0.49454294])"
      ]
     },
     "execution_count": 19,
     "metadata": {},
     "output_type": "execute_result"
    }
   ],
   "source": [
    "y_proba_pred"
   ]
  },
  {
   "cell_type": "code",
   "execution_count": 20,
   "metadata": {},
   "outputs": [
    {
     "name": "stderr",
     "output_type": "stream",
     "text": [
      "C:\\Users\\sadrool haque\\Anaconda3\\lib\\site-packages\\sklearn\\linear_model\\logistic.py:432: FutureWarning: Default solver will be changed to 'lbfgs' in 0.22. Specify a solver to silence this warning.\n",
      "  FutureWarning)\n"
     ]
    },
    {
     "data": {
      "text/plain": [
       "array([1, 0, 1, 1, 0, 1, 1, 1, 1, 1, 1, 1, 1, 0, 0, 1, 1, 1, 0, 1, 1, 1,\n",
       "       1, 1, 1, 1, 0, 1, 1, 1, 0, 1, 1, 1, 1, 1, 0, 0, 1, 1], dtype=int64)"
      ]
     },
     "execution_count": 20,
     "metadata": {},
     "output_type": "execute_result"
    }
   ],
   "source": [
    "from sklearn.linear_model import LogisticRegression\n",
    "logr= LogisticRegression()\n",
    "logr.fit(X_train_TfIdf,y_train)\n",
    "\n",
    "y_pred_1= logr.predict(X_test_TfIdf)\n",
    "y_pred_1\n",
    "\n",
    "\n"
   ]
  },
  {
   "cell_type": "code",
   "execution_count": 21,
   "metadata": {},
   "outputs": [
    {
     "data": {
      "text/plain": [
       "array([[ 7,  8],\n",
       "       [ 2, 23]], dtype=int64)"
      ]
     },
     "execution_count": 21,
     "metadata": {},
     "output_type": "execute_result"
    }
   ],
   "source": [
    "confusion_matrix(y_test,y_pred_1)"
   ]
  },
  {
   "cell_type": "code",
   "execution_count": 22,
   "metadata": {},
   "outputs": [
    {
     "data": {
      "text/plain": [
       "0.8214285714285714"
      ]
     },
     "execution_count": 22,
     "metadata": {},
     "output_type": "execute_result"
    }
   ],
   "source": [
    "f1_score(y_test,y_pred_1)"
   ]
  },
  {
   "cell_type": "code",
   "execution_count": 23,
   "metadata": {},
   "outputs": [
    {
     "data": {
      "text/plain": [
       "array([1, 0, 1, 1, 0, 1, 1, 1, 1, 1, 0, 0, 1, 0, 0, 1, 1, 1, 0, 1, 1, 1,\n",
       "       1, 1, 1, 1, 0, 1, 1, 1, 0, 1, 1, 1, 1, 1, 0, 0, 0, 0], dtype=int64)"
      ]
     },
     "execution_count": 23,
     "metadata": {},
     "output_type": "execute_result"
    }
   ],
   "source": [
    "from sklearn.svm import SVC\n",
    "sv= SVC(kernel='linear')\n",
    "sv.fit(X_train_TfIdf,y_train)\n",
    "y_pred_2= sv.predict(X_test_TfIdf)\n",
    "y_pred_2"
   ]
  },
  {
   "cell_type": "code",
   "execution_count": 24,
   "metadata": {},
   "outputs": [
    {
     "data": {
      "text/plain": [
       "0.8846153846153846"
      ]
     },
     "execution_count": 24,
     "metadata": {},
     "output_type": "execute_result"
    }
   ],
   "source": [
    "f1_score(y_test,y_pred_2)"
   ]
  },
  {
   "cell_type": "code",
   "execution_count": null,
   "metadata": {},
   "outputs": [],
   "source": []
  },
  {
   "cell_type": "code",
   "execution_count": null,
   "metadata": {},
   "outputs": [],
   "source": []
  },
  {
   "cell_type": "code",
   "execution_count": null,
   "metadata": {},
   "outputs": [],
   "source": []
  }
 ],
 "metadata": {
  "kernelspec": {
   "display_name": "Python 3",
   "language": "python",
   "name": "python3"
  },
  "language_info": {
   "codemirror_mode": {
    "name": "ipython",
    "version": 3
   },
   "file_extension": ".py",
   "mimetype": "text/x-python",
   "name": "python",
   "nbconvert_exporter": "python",
   "pygments_lexer": "ipython3",
   "version": "3.7.1"
  }
 },
 "nbformat": 4,
 "nbformat_minor": 2
}
